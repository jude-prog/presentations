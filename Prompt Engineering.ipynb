{
 "cells": [
  {
   "cell_type": "markdown",
   "id": "0728daea",
   "metadata": {},
   "source": [
    "## Generative AI\n",
    "It refers to tools that can be used to create new content such as articles or images just like humans can.\n",
    "A prompt is basically an instruction you give to an AI\n",
    "Generative AI that read and write text are called the Large Language Model(LLMs)"
   ]
  }
 ],
 "metadata": {
  "kernelspec": {
   "display_name": "presentations",
   "language": "python",
   "name": "presentations"
  },
  "language_info": {
   "codemirror_mode": {
    "name": "ipython",
    "version": 3
   },
   "file_extension": ".py",
   "mimetype": "text/x-python",
   "name": "python",
   "nbconvert_exporter": "python",
   "pygments_lexer": "ipython3",
   "version": "3.11.4"
  }
 },
 "nbformat": 4,
 "nbformat_minor": 5
}
